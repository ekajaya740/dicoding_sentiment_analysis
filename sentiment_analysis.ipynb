{
 "cells": [
  {
   "cell_type": "markdown",
   "id": "d35e714e",
   "metadata": {},
   "source": [
    "# Ferry Irwandi's YouTube Comments Sentiment Analysis\n",
    "\n",
    "Source: https://youtu.be/1qDL8bPuj_I?si=KjUyirzyV6JrWaYv\n",
    "\n",
    "Dataset From: 10 August 2025"
   ]
  },
  {
   "cell_type": "markdown",
   "id": "8b96e6b9",
   "metadata": {},
   "source": [
    "## Setup"
   ]
  },
  {
   "cell_type": "markdown",
   "id": "91c01f59",
   "metadata": {},
   "source": [
    "### Imports"
   ]
  },
  {
   "cell_type": "code",
   "execution_count": 2,
   "id": "edb8b65e",
   "metadata": {},
   "outputs": [],
   "source": [
    "import pandas as pd\n",
    "import numpy as np\n",
    "import matplotlib.pyplot as plt\n",
    "import seaborn as sns\n",
    "from sklearn.model_selection import train_test_split\n"
   ]
  },
  {
   "cell_type": "markdown",
   "id": "2322e8d4",
   "metadata": {},
   "source": [
    "### Utility Functions"
   ]
  },
  {
   "cell_type": "code",
   "execution_count": null,
   "id": "08e4beec",
   "metadata": {},
   "outputs": [],
   "source": []
  },
  {
   "cell_type": "markdown",
   "id": "6292773d",
   "metadata": {},
   "source": [
    "## Loading Dataset"
   ]
  },
  {
   "cell_type": "markdown",
   "id": "8325de8a",
   "metadata": {},
   "source": [
    "### Open CSV"
   ]
  },
  {
   "cell_type": "code",
   "execution_count": 5,
   "id": "d25623d5",
   "metadata": {},
   "outputs": [
    {
     "data": {
      "text/html": [
       "<div>\n",
       "<style scoped>\n",
       "    .dataframe tbody tr th:only-of-type {\n",
       "        vertical-align: middle;\n",
       "    }\n",
       "\n",
       "    .dataframe tbody tr th {\n",
       "        vertical-align: top;\n",
       "    }\n",
       "\n",
       "    .dataframe thead th {\n",
       "        text-align: right;\n",
       "    }\n",
       "</style>\n",
       "<table border=\"1\" class=\"dataframe\">\n",
       "  <thead>\n",
       "    <tr style=\"text-align: right;\">\n",
       "      <th></th>\n",
       "      <th>id</th>\n",
       "      <th>author</th>\n",
       "      <th>date</th>\n",
       "      <th>text</th>\n",
       "      <th>likes</th>\n",
       "      <th>reply_count</th>\n",
       "      <th>is_reply</th>\n",
       "    </tr>\n",
       "  </thead>\n",
       "  <tbody>\n",
       "    <tr>\n",
       "      <th>0</th>\n",
       "      <td>UgyDaegI4nlyU3VPtwN4AaABAg</td>\n",
       "      <td>@ferryirwandi</td>\n",
       "      <td>2024-10-10T09:02:59Z</td>\n",
       "      <td>hallo warga sipil sekalian, selamat menonton</td>\n",
       "      <td>4961</td>\n",
       "      <td>353</td>\n",
       "      <td>False</td>\n",
       "    </tr>\n",
       "    <tr>\n",
       "      <th>1</th>\n",
       "      <td>UgyDaegI4nlyU3VPtwN4AaABAg.A9PXST3-y1GA9PXVwN07dK</td>\n",
       "      <td>@KaebyDS</td>\n",
       "      <td>2024-10-10T09:03:28Z</td>\n",
       "      <td>Selamat makan</td>\n",
       "      <td>42</td>\n",
       "      <td>0</td>\n",
       "      <td>True</td>\n",
       "    </tr>\n",
       "    <tr>\n",
       "      <th>2</th>\n",
       "      <td>UgyDaegI4nlyU3VPtwN4AaABAg.A9PXST3-y1GA9PXXECSUqA</td>\n",
       "      <td>@raditt.27579</td>\n",
       "      <td>2024-10-10T09:03:38Z</td>\n",
       "      <td>okr</td>\n",
       "      <td>16</td>\n",
       "      <td>0</td>\n",
       "      <td>True</td>\n",
       "    </tr>\n",
       "    <tr>\n",
       "      <th>3</th>\n",
       "      <td>UgyDaegI4nlyU3VPtwN4AaABAg.A9PXST3-y1GA9PXdPOTaZ3</td>\n",
       "      <td>@hirumayoichi2625</td>\n",
       "      <td>2024-10-10T09:04:37Z</td>\n",
       "      <td>Bagaimana pendapat Bang Ferry tentang kegiatan...</td>\n",
       "      <td>13</td>\n",
       "      <td>0</td>\n",
       "      <td>True</td>\n",
       "    </tr>\n",
       "    <tr>\n",
       "      <th>4</th>\n",
       "      <td>UgyDaegI4nlyU3VPtwN4AaABAg.A9PXST3-y1GA9PXzT80NlM</td>\n",
       "      <td>@muhammadprajawanto8749</td>\n",
       "      <td>2024-10-10T09:07:38Z</td>\n",
       "      <td>Akan ada the people power</td>\n",
       "      <td>6</td>\n",
       "      <td>0</td>\n",
       "      <td>True</td>\n",
       "    </tr>\n",
       "  </tbody>\n",
       "</table>\n",
       "</div>"
      ],
      "text/plain": [
       "                                                  id                   author  \\\n",
       "0                         UgyDaegI4nlyU3VPtwN4AaABAg            @ferryirwandi   \n",
       "1  UgyDaegI4nlyU3VPtwN4AaABAg.A9PXST3-y1GA9PXVwN07dK                 @KaebyDS   \n",
       "2  UgyDaegI4nlyU3VPtwN4AaABAg.A9PXST3-y1GA9PXXECSUqA            @raditt.27579   \n",
       "3  UgyDaegI4nlyU3VPtwN4AaABAg.A9PXST3-y1GA9PXdPOTaZ3        @hirumayoichi2625   \n",
       "4  UgyDaegI4nlyU3VPtwN4AaABAg.A9PXST3-y1GA9PXzT80NlM  @muhammadprajawanto8749   \n",
       "\n",
       "                   date                                               text  \\\n",
       "0  2024-10-10T09:02:59Z       hallo warga sipil sekalian, selamat menonton   \n",
       "1  2024-10-10T09:03:28Z                                      Selamat makan   \n",
       "2  2024-10-10T09:03:38Z                                                okr   \n",
       "3  2024-10-10T09:04:37Z  Bagaimana pendapat Bang Ferry tentang kegiatan...   \n",
       "4  2024-10-10T09:07:38Z                          Akan ada the people power   \n",
       "\n",
       "   likes  reply_count  is_reply  \n",
       "0   4961          353     False  \n",
       "1     42            0      True  \n",
       "2     16            0      True  \n",
       "3     13            0      True  \n",
       "4      6            0      True  "
      ]
     },
     "execution_count": 5,
     "metadata": {},
     "output_type": "execute_result"
    }
   ],
   "source": [
    "csv_location = \"./dataset/youtube_comments_20250810_131638.csv\"\n",
    "\n",
    "df = pd.read_csv(csv_location)\n",
    "df.head()"
   ]
  },
  {
   "cell_type": "markdown",
   "id": "30046dca",
   "metadata": {},
   "source": [
    "### Cleaning Data"
   ]
  },
  {
   "cell_type": "code",
   "execution_count": 4,
   "id": "ed8f0b2e",
   "metadata": {},
   "outputs": [
    {
     "data": {
      "text/html": [
       "<div>\n",
       "<style scoped>\n",
       "    .dataframe tbody tr th:only-of-type {\n",
       "        vertical-align: middle;\n",
       "    }\n",
       "\n",
       "    .dataframe tbody tr th {\n",
       "        vertical-align: top;\n",
       "    }\n",
       "\n",
       "    .dataframe thead th {\n",
       "        text-align: right;\n",
       "    }\n",
       "</style>\n",
       "<table border=\"1\" class=\"dataframe\">\n",
       "  <thead>\n",
       "    <tr style=\"text-align: right;\">\n",
       "      <th></th>\n",
       "      <th>id</th>\n",
       "      <th>author</th>\n",
       "      <th>date</th>\n",
       "      <th>text</th>\n",
       "      <th>likes</th>\n",
       "      <th>reply_count</th>\n",
       "      <th>is_reply</th>\n",
       "    </tr>\n",
       "  </thead>\n",
       "  <tbody>\n",
       "    <tr>\n",
       "      <th>0</th>\n",
       "      <td>Ugzge340dBgB75hWBm54AaABAg</td>\n",
       "      <td>@YouTube</td>\n",
       "      <td>2025-04-22T19:05:08Z</td>\n",
       "      <td>can confirm: he never gave us up</td>\n",
       "      <td>82065</td>\n",
       "      <td>1000</td>\n",
       "      <td>False</td>\n",
       "    </tr>\n",
       "    <tr>\n",
       "      <th>1</th>\n",
       "      <td>Ugzge340dBgB75hWBm54AaABAg.AHE8_QAWJx9AHE9eIiztxR</td>\n",
       "      <td>@linganguliguliwatcha</td>\n",
       "      <td>2025-04-22T19:14:32Z</td>\n",
       "      <td>YOUTUBE AND ONE LIKE WOOHAAAAH</td>\n",
       "      <td>3007</td>\n",
       "      <td>0</td>\n",
       "      <td>True</td>\n",
       "    </tr>\n",
       "    <tr>\n",
       "      <th>2</th>\n",
       "      <td>Ugzge340dBgB75hWBm54AaABAg.AHE8_QAWJx9AHEAB_-JmDA</td>\n",
       "      <td>@_bugrabilgin</td>\n",
       "      <td>2025-04-22T19:19:13Z</td>\n",
       "      <td>HEY YOUTUBE</td>\n",
       "      <td>1369</td>\n",
       "      <td>0</td>\n",
       "      <td>True</td>\n",
       "    </tr>\n",
       "    <tr>\n",
       "      <th>3</th>\n",
       "      <td>Ugzge340dBgB75hWBm54AaABAg.AHE8_QAWJx9AHEAOCSlaNN</td>\n",
       "      <td>@NashiraArif</td>\n",
       "      <td>2025-04-22T19:20:56Z</td>\n",
       "      <td>new comment alert</td>\n",
       "      <td>810</td>\n",
       "      <td>0</td>\n",
       "      <td>True</td>\n",
       "    </tr>\n",
       "    <tr>\n",
       "      <th>4</th>\n",
       "      <td>Ugzge340dBgB75hWBm54AaABAg.AHE8_QAWJx9AHEAQwtwdoZ</td>\n",
       "      <td>@jennaortega-m4m</td>\n",
       "      <td>2025-04-22T19:21:18Z</td>\n",
       "      <td>oop 3rd didnt realise youtube was here😄</td>\n",
       "      <td>501</td>\n",
       "      <td>0</td>\n",
       "      <td>True</td>\n",
       "    </tr>\n",
       "  </tbody>\n",
       "</table>\n",
       "</div>"
      ],
      "text/plain": [
       "                                                  id                 author  \\\n",
       "0                         Ugzge340dBgB75hWBm54AaABAg               @YouTube   \n",
       "1  Ugzge340dBgB75hWBm54AaABAg.AHE8_QAWJx9AHE9eIiztxR  @linganguliguliwatcha   \n",
       "2  Ugzge340dBgB75hWBm54AaABAg.AHE8_QAWJx9AHEAB_-JmDA          @_bugrabilgin   \n",
       "3  Ugzge340dBgB75hWBm54AaABAg.AHE8_QAWJx9AHEAOCSlaNN           @NashiraArif   \n",
       "4  Ugzge340dBgB75hWBm54AaABAg.AHE8_QAWJx9AHEAQwtwdoZ       @jennaortega-m4m   \n",
       "\n",
       "                   date                                     text  likes  \\\n",
       "0  2025-04-22T19:05:08Z         can confirm: he never gave us up  82065   \n",
       "1  2025-04-22T19:14:32Z           YOUTUBE AND ONE LIKE WOOHAAAAH   3007   \n",
       "2  2025-04-22T19:19:13Z                              HEY YOUTUBE   1369   \n",
       "3  2025-04-22T19:20:56Z                        new comment alert    810   \n",
       "4  2025-04-22T19:21:18Z  oop 3rd didnt realise youtube was here😄    501   \n",
       "\n",
       "   reply_count  is_reply  \n",
       "0         1000     False  \n",
       "1            0      True  \n",
       "2            0      True  \n",
       "3            0      True  \n",
       "4            0      True  "
      ]
     },
     "execution_count": 4,
     "metadata": {},
     "output_type": "execute_result"
    }
   ],
   "source": [
    "\n",
    "df_cleaned = df.copy()\n",
    "\n",
    "df_cleaned = df_cleaned.drop_duplicates()\n",
    "df_cleaned = df_cleaned.dropna()\n",
    "\n",
    "df_cleaned.head()"
   ]
  },
  {
   "cell_type": "code",
   "execution_count": null,
   "id": "a7a51545",
   "metadata": {},
   "outputs": [],
   "source": []
  }
 ],
 "metadata": {
  "kernelspec": {
   "display_name": "Python 3.10.6",
   "language": "python",
   "name": "env"
  },
  "language_info": {
   "codemirror_mode": {
    "name": "ipython",
    "version": 3
   },
   "file_extension": ".py",
   "mimetype": "text/x-python",
   "name": "python",
   "nbconvert_exporter": "python",
   "pygments_lexer": "ipython3",
   "version": "3.10.6"
  }
 },
 "nbformat": 4,
 "nbformat_minor": 5
}
